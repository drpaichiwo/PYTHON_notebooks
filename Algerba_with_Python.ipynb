{
  "nbformat": 4,
  "nbformat_minor": 0,
  "metadata": {
    "colab": {
      "provenance": [],
      "collapsed_sections": [
        "jwYADqNrdsEx",
        "Kymo3fuapSwO",
        "R23kahOwwl2E",
        "jSxkLMx80zRC",
        "7B_EB4GqVHg9",
        "r7dP_hj4b-FK",
        "ezZ-g3_tkfyh",
        "ShW5MPkYutHT",
        "xxJ_MMfE3Bfu"
      ],
      "toc_visible": true,
      "authorship_tag": "ABX9TyMBQdxCllM/+MwAflsjF6yF",
      "include_colab_link": true
    },
    "kernelspec": {
      "name": "python3",
      "display_name": "Python 3"
    },
    "language_info": {
      "name": "python"
    }
  },
  "cells": [
    {
      "cell_type": "markdown",
      "metadata": {
        "id": "view-in-github",
        "colab_type": "text"
      },
      "source": [
        "<a href=\"https://colab.research.google.com/github/drpaichiwo/PYTHON_notebooks/blob/main/algebra_python_course.ipynb\" target=\"_parent\"><img src=\"https://colab.research.google.com/assets/colab-badge.svg\" alt=\"Open In Colab\"/></a>"
      ]
    },
    {
      "cell_type": "markdown",
      "source": [
        "# 01.Set up a proportion:"
      ],
      "metadata": {
        "id": "jwYADqNrdsEx"
      }
    },
    {
      "cell_type": "markdown",
      "source": [
        "*Mnożenie ukośne:*  \n",
        "$\\frac{n1}{d1}=\\frac{n2}{d2} $ to samo co:\n",
        "$ n1*d2 = d1*n2 $"
      ],
      "metadata": {
        "id": "T6RVacfsv2JM"
      }
    },
    {
      "cell_type": "code",
      "execution_count": null,
      "metadata": {
        "colab": {
          "base_uri": "https://localhost:8080/"
        },
        "id": "VRj5vJkLYO4p",
        "outputId": "afbbc60b-34f8-490e-deee-0c30ec3bce3e"
      },
      "outputs": [
        {
          "output_type": "stream",
          "name": "stdout",
          "text": [
            "d2 =  8.0\n"
          ]
        }
      ],
      "source": [
        "# Put a zero in for the unknown value (x)\n",
        "n1 = 1\n",
        "d1 = 2\n",
        "n2 = 4\n",
        "d2 = 0\n",
        "\n",
        "if n2 == 0:\n",
        "    answer = d2 * n1 / d1\n",
        "    print('n2 = ', answer)\n",
        "\n",
        "if d2 == 0:\n",
        "    answer = d1 * n2 / n1\n",
        "    print('d2 = ', answer)\n"
      ]
    },
    {
      "cell_type": "markdown",
      "source": [
        "# 01.Set up a proportion Extra:"
      ],
      "metadata": {
        "id": "Kymo3fuapSwO"
      }
    },
    {
      "cell_type": "markdown",
      "source": [
        "$ 1\\frac{2}{3}+3\\frac{4}{5}-7 $\n",
        "możemy zapisać:\n",
        "```print(1+2/3 + 3+4/5 - 7)```  \n",
        "lub użyć wyrażenia jako zmiennej: \n",
        "``` x = (1+2/3 + 3+4/5 - 7) ```  \n",
        "  \n",
        "$ \\frac{2}{3} $ to inaczej 0.666666(..)\n",
        "x = .6666666 a 10x = 6.6666666 to:  \n",
        "10x - x = 6  \n",
        "9x = 6, x = 6/9  \n",
        "x = $\\frac{2}{3}$  \n",
        "ale gdy x = .9999999 a 10x = 9.9999999 to:\n",
        "10x - x = 9,  \n",
        "9x = 9  \n",
        "**x = 1 czyli x !=.9999999**"
      ],
      "metadata": {
        "id": "a_ohTqpNpfzz"
      }
    },
    {
      "cell_type": "markdown",
      "source": [
        "# 02.Solve for x:"
      ],
      "metadata": {
        "id": "R23kahOwwl2E"
      }
    },
    {
      "cell_type": "markdown",
      "source": [
        "Solving for x\n",
        "\n",
        "\n",
        "*   $ x + 3 = 5, x = 5 - 3, x = 2 $ \n",
        "---\n",
        "*   $ x - 2 = 10, x = 10 + 2, x = 12 $\n",
        "---\n",
        "*   $ 3x = 12, x = \\frac{12}{3}, x = 4 $\n",
        "---\n",
        "*   $\\frac{x}{4} = 2, x = 2 * 4, x = 8 $\n",
        "---"
      ],
      "metadata": {
        "id": "eVMExBDkw2Fw"
      }
    },
    {
      "cell_type": "markdown",
      "source": [
        "Simplest solve-for-x code"
      ],
      "metadata": {
        "id": "Bk6oJCY61lmS"
      }
    },
    {
      "cell_type": "code",
      "source": [
        "import sympy\n",
        "from sympy import symbols\n",
        "from sympy.solvers import solve\n",
        "\n",
        "x = symbols('x')\n",
        "\n",
        "# Put the equation here\n",
        "eq = 2*x - 4\n",
        "\n",
        "print('x = ', solve(eq,x))\n",
        "\n"
      ],
      "metadata": {
        "colab": {
          "base_uri": "https://localhost:8080/"
        },
        "id": "2BzJG4CIwt5v",
        "outputId": "d330fc6f-0c73-43cc-fbc4-6f56c886808d"
      },
      "execution_count": null,
      "outputs": [
        {
          "output_type": "stream",
          "name": "stdout",
          "text": [
            "x =  [2]\n"
          ]
        }
      ]
    },
    {
      "cell_type": "markdown",
      "source": [
        "# 02.Solve for x Extra:\n"
      ],
      "metadata": {
        "id": "jSxkLMx80zRC"
      }
    },
    {
      "cell_type": "markdown",
      "source": [
        "Zapytaj o wpisanie równania, następnie je rozwiąż"
      ],
      "metadata": {
        "id": "c0-UslnH047Z"
      }
    },
    {
      "cell_type": "code",
      "source": [
        "import sympy\n",
        "from sympy import symbols\n",
        "from sympy.solvers import solve\n",
        "\n",
        "x = symbols('x')\n",
        "\n",
        "# Put the equation here\n",
        "eq = input('Enter equation: 0 = ')\n",
        "\n",
        "print('x = ', solve(eq,x))\n"
      ],
      "metadata": {
        "id": "8D2vE4yK2fAo"
      },
      "execution_count": null,
      "outputs": []
    },
    {
      "cell_type": "markdown",
      "source": [
        "Doing more with the solution"
      ],
      "metadata": {
        "id": "4qS90aSI3eO1"
      }
    },
    {
      "cell_type": "code",
      "source": [
        "import sympy\n",
        "from sympy import symbols\n",
        "from sympy.solvers import solve\n",
        "\n",
        "x = symbols('x')\n",
        "\n",
        "# Put the equation here\n",
        "eq = 2*x - 4\n",
        "\n",
        "solution = solve(eq,x)\n",
        "print('x = ', solution[0]) # [0] oznacza pierwsze rozwiązanie,2x-4 ma jedno"
      ],
      "metadata": {
        "colab": {
          "base_uri": "https://localhost:8080/"
        },
        "id": "i_x0cd2E3xa7",
        "outputId": "85c6d14d-f137-404a-ceaf-4e283cb8add5"
      },
      "execution_count": null,
      "outputs": [
        {
          "output_type": "stream",
          "name": "stdout",
          "text": [
            "x =  2\n"
          ]
        }
      ]
    },
    {
      "cell_type": "markdown",
      "source": [
        "Multiple answers"
      ],
      "metadata": {
        "id": "Sou_ATKy5oWQ"
      }
    },
    {
      "cell_type": "code",
      "source": [
        "import sympy\n",
        "from sympy import symbols\n",
        "from sympy.solvers import solve\n",
        "\n",
        "x = symbols('x')\n",
        "\n",
        "# Two different ways to get the equation\n",
        "\n",
        "eq = input('Enter equation: 0 = ')\n",
        "\n",
        "solution = solve(eq,x)\n",
        "for s in solution:  # Zmienna s dla wszystkich rozwiązań\n",
        "    print('x = ', s)"
      ],
      "metadata": {
        "id": "yjTZ4UBK5stn"
      },
      "execution_count": null,
      "outputs": []
    },
    {
      "cell_type": "markdown",
      "source": [
        "Solving in other ways"
      ],
      "metadata": {
        "id": "oCykYdyw7P4G"
      }
    },
    {
      "cell_type": "code",
      "source": [
        "from sympy import *\n",
        "\n",
        "\n",
        "var('x y')\n",
        "\n",
        "# First equation set equal to zero, ready to solve\n",
        "first = 2*x - y\n",
        "\n",
        "# Sympy syntax for equation equal to zero, ready to factor (0, y..)\n",
        "eq1 = Eq(first, 0)\n",
        "\n",
        "# Sympy solve for x\n",
        "solution = solve(eq1, x)\n",
        "\n",
        "# Show factored results\n",
        "print('x = ', solution[0])\n"
      ],
      "metadata": {
        "id": "AyFWTeNi7XiX"
      },
      "execution_count": null,
      "outputs": []
    },
    {
      "cell_type": "markdown",
      "source": [
        "Factoring *(tworzenie równań i skracanie równań)*"
      ],
      "metadata": {
        "id": "El9YdQC_9e7X"
      }
    },
    {
      "cell_type": "code",
      "source": [
        "import sympy\n",
        "from sympy import symbols\n",
        "\n",
        "var('x y')\n",
        "\n",
        "# Equation set equal to zero, ready to solve\n",
        "eq = 2*x + 10*y + 4\n",
        "eq1 = x**3 - 2*x**2 - 5*x + 6\n",
        "\n",
        "sympy.factor(eq1)"
      ],
      "metadata": {
        "id": "Pmwa-P839izm"
      },
      "execution_count": null,
      "outputs": []
    },
    {
      "cell_type": "markdown",
      "source": [
        "Explaining how each function works\n"
      ],
      "metadata": {
        "id": "Q8aYeQp7-3xx"
      }
    },
    {
      "cell_type": "code",
      "source": [
        "# converts string input (including fractions) to float\n",
        "def string_frac(in_string):\n",
        "    if '/' in in_string:\n",
        "        nd = in_string.split('/')\n",
        "        n = float(nd[0])\n",
        "        d = float(nd[1])\n",
        "        answer = n / d\n",
        "        return answer\n",
        "    else:\n",
        "        answer = float(in_string)\n",
        "        return answer\n",
        "\n",
        "# Simplest one-step addition\n",
        "def one_step_add():\n",
        "    import random\n",
        "    a = random.randint(-4, 10)\n",
        "    b = random.randint(2, 24)\n",
        "    print('x + ', a, ' = ', b)\n",
        "    ans = float(input('x = '))\n",
        "    answer = b - a\n",
        "    # Test input\n",
        "    if ans==answer:\n",
        "        print('Correct! \\n')\n",
        "    else:\n",
        "        print('Try again')\n",
        "        print('The correct answer is ', answer, '\\n')\n",
        "\n",
        "# One-step addition with negative numbers\n",
        "def one_step_subtract():\n",
        "    import random\n",
        "    a = random.randint(-19, -1)\n",
        "    b = random.randint(2, 24)\n",
        "    print(a, '+ x = ', b)\n",
        "    ans = float(input('x = '))\n",
        "    answer = b - a\n",
        "    # Test input\n",
        "    if ans==answer:\n",
        "        print('Correct! \\n')\n",
        "    else:\n",
        "        print('Try again')\n",
        "        print('The correct answer is ', answer, '\\n')\n",
        "\n",
        "# One-step multiply\n",
        "def one_step_mult():\n",
        "    # Uses string_frac(<input string>)\n",
        "    import random\n",
        "    a = random.randint(1, 11)\n",
        "    b = random.randint(2, 24)\n",
        "    print(a, 'x = ', b)\n",
        "    ans_in = float(input('x = '))\n",
        "    answer = b / a\n",
        "    # Test input\n",
        "    if string_frac(ans_in)==answer:\n",
        "        print('Correct! \\n')\n",
        "    else:\n",
        "        print('Try again')\n",
        "        print('The correct answer is ', answer, '\\n')\n",
        "        \n"
      ],
      "metadata": {
        "id": "bsnRh3tX_Aov"
      },
      "execution_count": null,
      "outputs": []
    },
    {
      "cell_type": "markdown",
      "source": [
        "# 03.Fraction and decimals:"
      ],
      "metadata": {
        "id": "7B_EB4GqVHg9"
      }
    },
    {
      "cell_type": "markdown",
      "source": [
        "Potęgi dodatnie i ujemne"
      ],
      "metadata": {
        "id": "tpwf3Z5KVZnF"
      }
    },
    {
      "cell_type": "code",
      "source": [
        "print(10**1)\n",
        "print(10**2)\n",
        "print(10**3)\n",
        "\n",
        "print(10**0)\n",
        "\n",
        "print(10**-1)\n",
        "print(10**-2)\n",
        "print(10**-3)"
      ],
      "metadata": {
        "id": "cvBHX45GVX3p"
      },
      "execution_count": null,
      "outputs": []
    },
    {
      "cell_type": "markdown",
      "source": [
        "Input od użytkownika to string. Możesz znaleźć długość string'a"
      ],
      "metadata": {
        "id": "GtPj-hmnWLMJ"
      }
    },
    {
      "cell_type": "code",
      "source": [
        "text = input('Enter a number')\n",
        "print(text)\n",
        "\n",
        "print(len(text))\n",
        "\n",
        "# error - can't do math here\n",
        "print(text+3)"
      ],
      "metadata": {
        "id": "vD73ZmZNWjsU"
      },
      "execution_count": null,
      "outputs": []
    },
    {
      "cell_type": "markdown",
      "source": [
        "Zmień input na `float` or `int` variable"
      ],
      "metadata": {
        "id": "hHZouWgXXcs8"
      }
    },
    {
      "cell_type": "code",
      "source": [
        "text = input('Enter a number')\n",
        "num = float(text) # or int\n",
        "print(num + 4)"
      ],
      "metadata": {
        "id": "ftPNUQUpXsVN"
      },
      "execution_count": null,
      "outputs": []
    },
    {
      "cell_type": "markdown",
      "source": [
        "Now put it all together"
      ],
      "metadata": {
        "id": "5PWXpSd5YR_z"
      }
    },
    {
      "cell_type": "code",
      "source": [
        "# Get string input, which will include a decimal point\n",
        "digits = input('Enter a decimal number to convert (.123..): ')\n",
        "\n",
        "# Get number of decimal places as an int\n",
        "exponent = int(len(digits))-1\n",
        "\n",
        "# Convert the input to the float number\n",
        "n = float(digits)\n",
        "\n",
        "# Use the exponent to get the numerator\n",
        "numerator = int(n * 10**exponent)\n",
        "\n",
        "# Use the exponent to get the denominator\n",
        "denominator = 10**exponent\n",
        "\n",
        "# Percent is the first two decimal places\n",
        "percent = n * 100\n",
        "\n",
        "# Output\n",
        "print('The decimal is: ', n)\n",
        "print('The fraction is: ', numerator, '/', denominator)\n",
        "print('The percent is: ', percent, ' %')\n"
      ],
      "metadata": {
        "colab": {
          "base_uri": "https://localhost:8080/"
        },
        "id": "4YljARWhYYp9",
        "outputId": "82ea91d6-3b13-40ae-dc70-33ea48c1cdfb"
      },
      "execution_count": null,
      "outputs": [
        {
          "output_type": "stream",
          "name": "stdout",
          "text": [
            "Enter a decimal number to convert: .125\n",
            "The decimal is:  0.125\n",
            "The fraction is:  125 / 1000\n",
            "The percent is:  12.5  %\n"
          ]
        }
      ]
    },
    {
      "cell_type": "markdown",
      "source": [
        "# 03.Fractions and decimals Extra:"
      ],
      "metadata": {
        "id": "r7dP_hj4b-FK"
      }
    },
    {
      "cell_type": "markdown",
      "source": [
        "Solve for variable x"
      ],
      "metadata": {
        "id": "5TKMw00yiWSY"
      }
    },
    {
      "cell_type": "code",
      "source": [
        "from sympy import *\n",
        "import math\n",
        "\n",
        "# Identify all variables\n",
        "var('a b c d x')\n",
        "\n",
        "# Left and right sides of the equation\n",
        "left = 0\n",
        "right = a*x**2 + b*x + c\n",
        "\n",
        "# Variable to solve for\n",
        "variable = x\n",
        "\n",
        "# Sympy equation left = right\n",
        "eq1 = Eq(left, right)\n",
        "\n",
        "# Sympy solve for that variable\n",
        "sol = solve(eq1, variable)\n",
        "\n",
        "# Show factored results\n",
        "for s in sol:\n",
        "  print(variable, ' = ', s)"
      ],
      "metadata": {
        "colab": {
          "base_uri": "https://localhost:8080/"
        },
        "id": "IMVS92cwcNIm",
        "outputId": "ba9aa4dc-e2f0-49e1-ccc9-e01ad6d18e04"
      },
      "execution_count": null,
      "outputs": [
        {
          "output_type": "stream",
          "name": "stdout",
          "text": [
            "x  =  (-b + sqrt(-4*a*c + b**2))/(2*a)\n",
            "x  =  -(b + sqrt(-4*a*c + b**2))/(2*a)\n"
          ]
        }
      ]
    },
    {
      "cell_type": "markdown",
      "source": [
        "# 04.Functions"
      ],
      "metadata": {
        "id": "ezZ-g3_tkfyh"
      }
    },
    {
      "cell_type": "markdown",
      "source": [
        "Funkcja to matematyczne równanie dające koordynaty na osi (x, y)  \n",
        "$ y = 2x + 3 $  \n",
        "można postawiać pod x różne wartości i otrzymywać koordynaty danej funkcji\n",
        "$ f(x) = 2x + 3 $"
      ],
      "metadata": {
        "id": "BPDdOl2ukoXO"
      }
    },
    {
      "cell_type": "markdown",
      "source": [
        "Funkcja - tworzenie tabeli wartości (x, y)"
      ],
      "metadata": {
        "id": "XrR03MZvsDjl"
      }
    },
    {
      "cell_type": "code",
      "source": [
        "x = 5\n",
        "y = 4*x + 3 # The function\n",
        "print(x,',', y)\n",
        "\n",
        "\n",
        "print('x \\t y')\n",
        "for x in range(11):\n",
        "    y = 4*x + 3 \n",
        "    print(x, '\\t', y)"
      ],
      "metadata": {
        "id": "LgKza3E1koov"
      },
      "execution_count": null,
      "outputs": []
    },
    {
      "cell_type": "markdown",
      "source": [
        "Definiowanie funkcji w Pythonie"
      ],
      "metadata": {
        "id": "djpmwolXs69G"
      }
    },
    {
      "cell_type": "code",
      "source": [
        "def f(x):\n",
        "    y = 4*x + 3\n",
        "    return y\n",
        "\n",
        "print(5, ',', f(5))   \n",
        "\n",
        " # Next, a loop\n",
        "for x in range(11):\n",
        "    print(x, '\\t', f(x))"
      ],
      "metadata": {
        "colab": {
          "base_uri": "https://localhost:8080/"
        },
        "id": "aMGWaUQ_s_wV",
        "outputId": "65f39e0f-3afa-49dd-bd23-fc3915137806"
      },
      "execution_count": null,
      "outputs": [
        {
          "output_type": "stream",
          "name": "stdout",
          "text": [
            "5 , 23\n",
            "0 \t 3\n",
            "1 \t 7\n",
            "2 \t 11\n",
            "3 \t 15\n",
            "4 \t 19\n",
            "5 \t 23\n",
            "6 \t 27\n",
            "7 \t 31\n",
            "8 \t 35\n",
            "9 \t 39\n",
            "10 \t 43\n"
          ]
        }
      ]
    },
    {
      "cell_type": "markdown",
      "source": [
        "# 04.Graphs"
      ],
      "metadata": {
        "id": "ShW5MPkYutHT"
      }
    },
    {
      "cell_type": "markdown",
      "source": [
        "Prosty pusty układ współrzędnych"
      ],
      "metadata": {
        "id": "3Psxku50tgHL"
      }
    },
    {
      "cell_type": "code",
      "source": [
        "import matplotlib.pyplot as plt\n",
        "\n",
        "fig, ax = plt.subplots()\n",
        "plt.show()"
      ],
      "metadata": {
        "colab": {
          "base_uri": "https://localhost:8080/",
          "height": 269
        },
        "id": "TBxeKqzqu3p8",
        "outputId": "eb9c0547-f6f2-447c-804e-f5176cda7b9b"
      },
      "execution_count": null,
      "outputs": [
        {
          "output_type": "display_data",
          "data": {
            "text/plain": [
              "<Figure size 432x288 with 1 Axes>"
            ],
            "image/png": "[encoded data removed]"
          },
          "metadata": {
            "needs_background": "light"
          }
        }
      ]
    },
    {
      "cell_type": "markdown",
      "source": [
        "Ustalenie rozmiaru układu"
      ],
      "metadata": {
        "id": "XOwLSwUMwJ1u"
      }
    },
    {
      "cell_type": "code",
      "source": [
        "import matplotlib.pyplot as plt\n",
        "\n",
        "fig, ax = plt.subplots()\n",
        "\n",
        "# Dimensions\n",
        "plt.axis([-10,10,-10,10])\n",
        "\n",
        "plt.show()"
      ],
      "metadata": {
        "colab": {
          "base_uri": "https://localhost:8080/",
          "height": 269
        },
        "id": "ha9SInTEwSyX",
        "outputId": "0b8be3b1-4c1a-462f-a05a-aabd59348809"
      },
      "execution_count": null,
      "outputs": [
        {
          "output_type": "display_data",
          "data": {
            "text/plain": [
              "<Figure size 432x288 with 1 Axes>"
            ],
            "image/png": "[encoded data removed]"
          },
          "metadata": {
            "needs_background": "light"
          }
        }
      ]
    },
    {
      "cell_type": "markdown",
      "source": [
        "Lepszy sposób na ustalenie rozmiaru"
      ],
      "metadata": {
        "id": "esMAD_E7xLYb"
      }
    },
    {
      "cell_type": "code",
      "source": [
        "import matplotlib.pyplot as plt\n",
        "\n",
        "xmin = -10\n",
        "xmax = 10\n",
        "ymin = -10\n",
        "ymax = 10\n",
        "\n",
        "fig, ax = plt.subplots()\n",
        "plt.axis([xmin, xmax, ymin, ymax]) # window size\n",
        "plt.show()"
      ],
      "metadata": {
        "id": "PkpcuEFyxS8A"
      },
      "execution_count": null,
      "outputs": []
    },
    {
      "cell_type": "markdown",
      "source": [
        "Wyświetla osie (x, y)"
      ],
      "metadata": {
        "id": "u9HNofP1yUbH"
      }
    },
    {
      "cell_type": "code",
      "source": [
        "import matplotlib.pyplot as plt\n",
        "\n",
        "xmin = -10\n",
        "xmax = 10\n",
        "ymin = -10\n",
        "ymax = 10\n",
        "\n",
        "fig, ax = plt.subplots()\n",
        "plt.axis([xmin, xmax, ymin, ymax]) # window size\n",
        "plt.plot([xmin, xmax], [0,0], 'b') # blue x axis\n",
        "plt.plot([0, 0], [ymin, ymax], 'b') # blue y axis\n",
        "\n",
        "plt.show()"
      ],
      "metadata": {
        "colab": {
          "base_uri": "https://localhost:8080/",
          "height": 269
        },
        "id": "tT8oehCuyaiz",
        "outputId": "07b9f280-d1ce-4ea5-c1ec-1d1841af6fd4"
      },
      "execution_count": null,
      "outputs": [
        {
          "output_type": "display_data",
          "data": {
            "text/plain": [
              "<Figure size 432x288 with 1 Axes>"
            ],
            "image/png": "[encoded data removed]"
          },
          "metadata": {
            "needs_background": "light"
          }
        }
      ]
    },
    {
      "cell_type": "markdown",
      "source": [
        "Zaznacz punkt na grafie"
      ],
      "metadata": {
        "id": "Di6PikrSzi80"
      }
    },
    {
      "cell_type": "code",
      "source": [
        "import matplotlib.pyplot as plt\n",
        "\n",
        "xmin = -10\n",
        "xmax = 10\n",
        "ymin = -10\n",
        "ymax = 10\n",
        "\n",
        "fig, ax = plt.subplots()\n",
        "plt.axis([xmin, xmax, ymin, ymax]) # window size\n",
        "plt.plot([xmin, xmax], [0,0], 'b') # blue x axis\n",
        "plt.plot([0, 0], [ymin, ymax], 'b') # blue y axis\n",
        "\n",
        "plt.plot([5], [4], 'ro') # draw a point\n",
        "\n",
        "plt.show()"
      ],
      "metadata": {
        "colab": {
          "base_uri": "https://localhost:8080/",
          "height": 269
        },
        "id": "cruhpgiizm8O",
        "outputId": "14ba7b48-1f18-40e1-f797-e644766d26a5"
      },
      "execution_count": null,
      "outputs": [
        {
          "output_type": "display_data",
          "data": {
            "text/plain": [
              "<Figure size 432x288 with 1 Axes>"
            ],
            "image/png": "[encoded data removed]"
          },
          "metadata": {
            "needs_background": "light"
          }
        }
      ]
    },
    {
      "cell_type": "markdown",
      "source": [
        "Narysuj wiele punktów"
      ],
      "metadata": {
        "id": "4bmJMi_20XB3"
      }
    },
    {
      "cell_type": "code",
      "source": [
        "import matplotlib.pyplot as plt\n",
        "\n",
        "xmin = -10\n",
        "xmax = 10\n",
        "ymin = -10\n",
        "ymax = 10\n",
        "\n",
        "fig, ax = plt.subplots()\n",
        "plt.axis([xmin, xmax, ymin, ymax]) # window size\n",
        "plt.plot([xmin, xmax], [0,0], 'b') # blue x axis\n",
        "plt.plot([0, 0], [ymin, ymax], 'b') # blue y axis\n",
        "\n",
        "\n",
        "for x in range(10):\n",
        "    y = 0.5*x + 1\n",
        "    plt.plot([x], [y], 'ro') \n",
        "\n",
        "plt.show()"
      ],
      "metadata": {
        "colab": {
          "base_uri": "https://localhost:8080/",
          "height": 269
        },
        "id": "FCfdHXjE0c9o",
        "outputId": "65e7b4a2-c566-45f4-9a38-178dba430775"
      },
      "execution_count": null,
      "outputs": [
        {
          "output_type": "display_data",
          "data": {
            "text/plain": [
              "<Figure size 432x288 with 1 Axes>"
            ],
            "image/png": "[encoded data removed]"
          },
          "metadata": {
            "needs_background": "light"
          }
        }
      ]
    },
    {
      "cell_type": "markdown",
      "source": [
        "Graf i tabela wartości (x, y)"
      ],
      "metadata": {
        "id": "I1qYQGNq1GEj"
      }
    },
    {
      "cell_type": "code",
      "source": [
        "import matplotlib.pyplot as plt\n",
        "\n",
        "xmin = -10\n",
        "xmax = 10\n",
        "ymin = -10\n",
        "ymax = 10\n",
        "\n",
        "fig, ax = plt.subplots()\n",
        "plt.axis([xmin, xmax, ymin, ymax]) # window size\n",
        "plt.plot([xmin, xmax], [0,0], 'b') # blue x axis\n",
        "plt.plot([0, 0], [ymin, ymax], 'b') # blue y axis\n",
        "\n",
        "print('x \\t y')\n",
        "for x in range(xmin, xmax+1):\n",
        "    y = 0.5*x + 1\n",
        "    plt.plot([x], [y], 'ro')\n",
        "    print(x,'\\t', y)\n",
        "\n",
        "plt.show()"
      ],
      "metadata": {
        "colab": {
          "base_uri": "https://localhost:8080/",
          "height": 651
        },
        "id": "lHNsucNA1M7p",
        "outputId": "9d312858-03a1-4da1-e087-52c577d28182"
      },
      "execution_count": null,
      "outputs": [
        {
          "output_type": "stream",
          "name": "stdout",
          "text": [
            "x \t y\n",
            "-10 \t -4.0\n",
            "-9 \t -3.5\n",
            "-8 \t -3.0\n",
            "-7 \t -2.5\n",
            "-6 \t -2.0\n",
            "-5 \t -1.5\n",
            "-4 \t -1.0\n",
            "-3 \t -0.5\n",
            "-2 \t 0.0\n",
            "-1 \t 0.5\n",
            "0 \t 1.0\n",
            "1 \t 1.5\n",
            "2 \t 2.0\n",
            "3 \t 2.5\n",
            "4 \t 3.0\n",
            "5 \t 3.5\n",
            "6 \t 4.0\n",
            "7 \t 4.5\n",
            "8 \t 5.0\n",
            "9 \t 5.5\n",
            "10 \t 6.0\n"
          ]
        },
        {
          "output_type": "display_data",
          "data": {
            "text/plain": [
              "<Figure size 432x288 with 1 Axes>"
            ],
            "image/png": "[encoded data removed]"
          },
          "metadata": {
            "needs_background": "light"
          }
        }
      ]
    },
    {
      "cell_type": "markdown",
      "source": [
        "# 04.Functions, Graphs Extras:"
      ],
      "metadata": {
        "id": "xxJ_MMfE3Bfu"
      }
    },
    {
      "cell_type": "markdown",
      "source": [
        "Use an array as inputs"
      ],
      "metadata": {
        "id": "gmTwBjnB3JGk"
      }
    },
    {
      "cell_type": "code",
      "source": [
        "import matplotlib.pyplot as plt\n",
        "import numpy as np\n",
        "\n",
        "xmin = -10\n",
        "xmax = 10\n",
        "ymin = -10\n",
        "ymax = 10\n",
        "points = 2*(xmax-xmin)\n",
        "x = np.linspace(xmax, xmin, points)\n",
        "\n",
        "fig, ax = plt.subplots()\n",
        "plt.axis([xmin, xmax, ymin, ymax]) # window size\n",
        "plt.plot([xmin, xmax], [0,0], 'b') # blue x axis\n",
        "plt.plot([0, 0], [ymin, ymax], 'b') # blue y axis\n",
        "\n",
        "y = 2*x + 1\n",
        "plt.plot(x, y, 'orange') \n",
        "\n",
        "plt.show()"
      ],
      "metadata": {
        "colab": {
          "base_uri": "https://localhost:8080/",
          "height": 269
        },
        "id": "pjDPe7vG3ghD",
        "outputId": "33b1916e-d74b-4c73-cddd-088ea644198a"
      },
      "execution_count": null,
      "outputs": [
        {
          "output_type": "display_data",
          "data": {
            "text/plain": [
              "<Figure size 432x288 with 1 Axes>"
            ],
            "image/png": "[encoded data removed]"
          },
          "metadata": {
            "needs_background": "light"
          }
        }
      ]
    },
    {
      "cell_type": "markdown",
      "source": [
        "More ways to customize a graph"
      ],
      "metadata": {
        "id": "18dszpBD6mw1"
      }
    },
    {
      "cell_type": "code",
      "source": [
        "import matplotlib.pyplot as plt\n",
        "import numpy as np\n",
        "\n",
        "xmin = -10\n",
        "xmax = 10\n",
        "ymin = -10\n",
        "ymax = 10\n",
        "points = 2*(xmax-xmin)\n",
        "x = np.linspace(xmax, xmin, points)\n",
        "\n",
        "fig, ax = plt.subplots()\n",
        "plt.axis([xmin, xmax, ymin, ymax]) # window size\n",
        "plt.plot([xmin, xmax], [0,0], 'b') # blue x axis\n",
        "plt.plot([0, 0], [ymin, ymax], 'b') # blue y axis\n",
        "\n",
        "ax.set_xlabel('x values')\n",
        "ax.set_ylabel('y values')\n",
        "ax.set_title('Some Graph')\n",
        "\n",
        "ax.grid(True)\n",
        "\n",
        "ax.set_xticks(np.arange(xmin, xmax, 1))\n",
        "ax.set_yticks(np.arange(ymin, ymax, 1))\n",
        "\n",
        "y = 2*x + 1\n",
        "plt.plot(x,y, label='y=2x+1')\n",
        "plt.plot([4],[6], 'ro', label='point')\n",
        "plt.plot(x, 3*x, label='steeper line')\n",
        "\n",
        "plt.legend()\n",
        "plt.show()"
      ],
      "metadata": {
        "colab": {
          "base_uri": "https://localhost:8080/",
          "height": 295
        },
        "id": "zuHtrFF66xaX",
        "outputId": "75c7c8e8-b63c-400c-c0cf-238cad20cf05"
      },
      "execution_count": null,
      "outputs": [
        {
          "output_type": "display_data",
          "data": {
            "text/plain": [
              "<Figure size 432x288 with 1 Axes>"
            ],
            "image/png": "[encoded data removed]"
          },
          "metadata": {
            "needs_background": "light"
          }
        }
      ]
    },
    {
      "cell_type": "markdown",
      "source": [
        "# 05.Slope"
      ],
      "metadata": {
        "id": "L7edkwSY9-Wm"
      }
    }
  ]
}
